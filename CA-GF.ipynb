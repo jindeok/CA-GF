{
 "cells": [
  {
   "cell_type": "markdown",
   "id": "565e8dab",
   "metadata": {},
   "source": [
    "\n",
    "\n",
    "1. Model name: \n",
    "2. Domain: Multi-Criteria Recommender System (MCRS)\n",
    "2. Code writer: Jin-Duk Park (github: https://github.com/jindeok, homepage: https://jindeok.github.io/jdpark/)"
   ]
  },
  {
   "cell_type": "code",
   "execution_count": 4,
   "id": "239d2a73",
   "metadata": {},
   "outputs": [],
   "source": [
    "import random\n",
    "import numpy as np\n",
    "import pandas as pd\n",
    "import torch\n",
    "import time\n",
    "from scipy.sparse import csr_matrix, save_npz, load_npz\n",
    "from utils_torch import *\n",
    "from scipy.linalg import expm\n",
    "random.seed(2022)\n",
    "np.random.seed(2022)"
   ]
  },
  {
   "cell_type": "code",
   "execution_count": 6,
   "id": "354ec3fd",
   "metadata": {},
   "outputs": [
    {
     "name": "stdout",
     "output_type": "stream",
     "text": [
      "Current Directory: /home/user/Desktop/jdpark/Code_2\n",
      "number of users: 5132\n",
      "number of items: 7205\n",
      "number of overall ratings: 41638\n",
      "number of MC ratings: 280521\n"
     ]
    }
   ],
   "source": [
    "import os\n",
    "device = 'cuda:0'\n",
    "#device = 'cpu'\n",
    "\n",
    "current_directory = os.getcwd()\n",
    "print(\"Current Directory:\", current_directory)\n",
    "# Configuration\n",
    "dataset = \"TA\" # BA, YM, TA\n",
    "path = f\"{current_directory}/dataset/{dataset}\"\n",
    "cri_dict =  {\"TA\":8, \"TA_toy\":8, \"YM\":5, \"BA\":5}\n",
    "\n",
    "R_tr = []\n",
    "R_ts = []\n",
    "\n",
    "# Read csr matrix\n",
    "for idx in range(cri_dict[dataset]):\n",
    "    R_tr.append(csr2torch(load_npz(path + f'/{dataset}_tr_{idx}.npz')).to(device))\n",
    "    R_ts.append(csr2torch(load_npz(path + f'/{dataset}_ts_{idx}.npz')).to(device))\n",
    "    \n",
    "\n",
    "n_users = R_tr[0].shape[0]\n",
    "n_items = R_tr[0].shape[1]\n",
    "n_cri = cri_dict[dataset]\n",
    "\n",
    "print(f\"number of users: {n_users}\")\n",
    "print(f\"number of items: {n_items}\")\n",
    "\n",
    "\n",
    "ov_rating = torch.nonzero(R_tr[0]._values()).cpu().size(0) +torch.nonzero(R_ts[0]._values()).cpu().size(0)\n",
    "edge = 0\n",
    "for tr, ts in zip(R_tr, R_ts):    \n",
    "    mc_ratings= torch.nonzero(tr._values()).cpu().size(0) +torch.nonzero(ts._values()).cpu().size(0)\n",
    "    edge += mc_ratings\n",
    "print(f\"number of overall ratings: {ov_rating}\")\n",
    "print(f\"number of MC ratings: {edge}\")\n"
   ]
  },
  {
   "cell_type": "code",
   "execution_count": 7,
   "id": "505997b6",
   "metadata": {},
   "outputs": [
    {
     "name": "stdout",
     "output_type": "stream",
     "text": [
      "Computing time:0.022441864013671875:.4f\n"
     ]
    }
   ],
   "source": [
    "start = time.time()\n",
    "# Graph construction\n",
    "MCEG = graph_construction(R_tr, cri_dict[dataset], device, version = 2)  # 0: overall, 1: MCEG\n",
    "mceg_norm = normalize_sparse_adjacency_matrix(MCEG, 0.5)\n",
    "MCEG = MCEG.to_dense()\n",
    "P = mceg_norm.T @ mceg_norm\n",
    "\n",
    "mode = 1\n",
    "# Preference computation (optional)\n",
    "if mode == True:\n",
    "    X = R_tr[0].sum(axis=1).to_dense().view(-1, 1)\n",
    "    for cri in range(1, n_cri):\n",
    "        X = torch.concat((X, R_tr[cri].sum(axis=1).to_dense().view(-1, 1)), axis =1)\n",
    "    K = normalize_sparse_adjacency_matrix_row(X, -1)\n",
    "    C = K.T @ K\n",
    "    qs = {'TA':2, 'YM':4, 'BA':2}\n",
    "    C.data **= qs[dataset]\n",
    "    C = normalize_sparse_adjacency_matrix_row(C, -1)\n",
    "    pref_mat  = K @ C\n",
    "\n",
    "# Combinatorial Filtering\n",
    "if dataset == \"TA\":\n",
    "    ps = {0:0.1, 1:0.85, 2:1.2, 3:1}\n",
    "    cri_mapping={0:2, 1:0, 2:1, 3:0, 4:0, 5:1, 6:0, 7:0}\n",
    "    \n",
    "elif dataset == \"YM\":\n",
    "    ps = {0:1, 1:1.05, 2:1.8, 3:1} # YM\n",
    "    cri_mapping={0:2, 1:1, 2:1, 3:2, 4:0} #YM\n",
    "\n",
    "elif dataset == \"BA\":\n",
    "    ps = {0:0.6, 1:0.85, 2:1.5, 3:1} # BA\n",
    "    cri_mapping={0:0, 1:2, 2:1, 3:1, 4:0} #BA\n",
    "\n",
    "\n",
    "predictions = []\n",
    "for cri in range(cri_dict[dataset]):\n",
    "    if mode == True:        \n",
    "        #pref_mat = T[n_users*cri:n_users*(cri+1), :]  \n",
    "        predictions.append(torch.mul(pref_mat.T[cri].view(-1,1),inference_3(MCEG,P, ps, cri, n_users, cri_mapping[cri],device)))\n",
    "    else:\n",
    "        predictions.append(inference_3(MCEG,P, ps, cri, n_users, cri_mapping[cri],device))\n",
    "# can be converted to weighted sum later\n",
    "prediction = sum(predictions)\n",
    "\n",
    "print(f\"Computing time:{time.time()-start}:.4f\")\n"
   ]
  },
  {
   "cell_type": "code",
   "execution_count": 420,
   "metadata": {},
   "outputs": [
    {
     "name": "stdout",
     "output_type": "stream",
     "text": [
      "Recall@5: 0.0045, Recall@10: 0.0068 \n",
      "\n",
      "NDCG@5: 0.0081 NDCG@10: 0.0081 \n",
      "\n"
     ]
    }
   ],
   "source": [
    "results = prediction[:,:n_items]\n",
    "\n",
    "results = results + (-99999)*MCEG.to_dense()[:n_users,:]\n",
    "top_10_mat, rel10 = top_k(results, k = 10, device = device)\n",
    "top_5_mat, rel5 = top_k(results, k = 5, device = device)\n",
    "# Processing gt\n",
    "if device == 'cpu':\n",
    "    gt_mat = R_ts[0].to_dense()\n",
    "else:\n",
    "    gt_mat = R_ts[0].to_dense()\n",
    "gt_mat[gt_mat<3] = 0\n",
    "gt_mat[gt_mat>=3] = 1\n",
    "\n",
    "_, i_rel10 =top_k(gt_mat, k = 10, device = device)\n",
    "_, i_rel5 =top_k(gt_mat, k = 5, device = device)\n",
    "\n",
    "# measure ranking-based evaluations\n",
    "#print(f\"Precision@5: {precision_k(top_5_mat, gt_mat, 5, device = device):.4f}, Precision@10: {precision_k(top_10_mat, gt_mat, 10, device = device):.4f} \\n\")\n",
    "print(f\"Recall@5: {recall_k(top_5_mat, gt_mat, 5, device = device):.4f}, Recall@10: {recall_k(top_10_mat, gt_mat, 10, device = device):.4f} \\n\")\n",
    "print(f\"NDCG@5: {ndcg_k(rel5, i_rel5, gt_mat, device = device):.4f} NDCG@10: {ndcg_k(rel10, i_rel10, gt_mat, device = device):.4f} \\n\")"
   ]
  },
  {
   "cell_type": "code",
   "execution_count": null,
   "metadata": {},
   "outputs": [],
   "source": []
  },
  {
   "cell_type": "code",
   "execution_count": null,
   "metadata": {},
   "outputs": [],
   "source": []
  }
 ],
 "metadata": {
  "kernelspec": {
   "display_name": "base",
   "language": "python",
   "name": "python3"
  },
  "language_info": {
   "codemirror_mode": {
    "name": "ipython",
    "version": 3
   },
   "file_extension": ".py",
   "mimetype": "text/x-python",
   "name": "python",
   "nbconvert_exporter": "python",
   "pygments_lexer": "ipython3",
   "version": "3.9.18"
  },
  "vscode": {
   "interpreter": {
    "hash": "e5e7e908986eb504874c73244d8f81fe3f9967af36719548260cfac1cfc6df0d"
   }
  }
 },
 "nbformat": 4,
 "nbformat_minor": 5
}
